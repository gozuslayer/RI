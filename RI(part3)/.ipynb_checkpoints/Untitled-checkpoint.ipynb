{
 "cells": [
  {
   "cell_type": "code",
   "execution_count": 2,
   "metadata": {
    "ExecuteTime": {
     "end_time": "2017-01-19T15:37:37.074020",
     "start_time": "2017-01-19T15:37:37.065822"
    },
    "collapsed": false
   },
   "outputs": [
    {
     "name": "stdout",
     "output_type": "stream",
     "text": [
      "0.0934486206225\n"
     ]
    }
   ],
   "source": [
    "print CR20glouton"
   ]
  },
  {
   "cell_type": "code",
   "execution_count": 1,
   "metadata": {
    "ExecuteTime": {
     "end_time": "2017-01-19T15:37:31.515743",
     "start_time": "2017-01-19T15:35:12.805292"
    },
    "collapsed": false,
    "scrolled": true
   },
   "outputs": [
    {
     "name": "stdout",
     "output_type": "stream",
     "text": [
      "evaluating requete 2\n",
      "3.403321\n",
      "evaluating requete 3\n",
      "28.243131\n",
      "evaluating requete 5\n",
      "1.11285\n",
      "evaluating requete 6\n",
      "2.062842\n",
      "evaluating requete 10\n",
      "2.66478\n",
      "evaluating requete 11\n",
      "1.811264\n",
      "evaluating requete 12\n",
      "1.028605\n",
      "evaluating requete 13\n",
      "0.416241\n",
      "evaluating requete 15\n",
      "0.593055\n",
      "evaluating requete 16\n",
      "0.353623\n",
      "evaluating requete 17\n",
      "0.770488\n",
      "evaluating requete 18\n",
      "1.140284\n",
      "evaluating requete 19\n",
      "0.570457\n",
      "evaluating requete 20\n",
      "0.435238\n",
      "evaluating requete 21\n",
      "0.492096\n",
      "evaluating requete 23\n",
      "0.496256\n",
      "evaluating requete 24\n",
      "0.550926\n",
      "evaluating requete 28\n",
      "0.526913\n",
      "evaluating requete 29\n",
      "0.500502\n",
      "evaluating requete 31\n",
      "0.766816\n",
      "evaluating requete 34\n",
      "0.628172\n",
      "evaluating requete 35\n",
      "0.367362\n",
      "evaluating requete 37\n",
      "0.746859\n",
      "evaluating requete 39\n",
      "0.787896\n",
      "evaluating requete 40\n",
      "0.910419\n",
      "evaluating requete 41\n",
      "0.396035\n",
      "evaluating requete 43\n",
      "0.394226\n",
      "evaluating requete 44\n",
      "0.487199\n",
      "evaluating requete 48\n",
      "0.498991\n",
      "evaluating requete 49\n",
      "0.624249\n",
      "evaluating requete 50\n",
      "0.501076\n",
      "evaluating requete 52\n",
      "0.394966\n",
      "evaluating requete 53\n",
      "0.580074\n",
      "evaluating requete 54\n",
      "0.546518\n",
      "evaluating requete 55\n",
      "0.885551\n",
      "evaluating requete 56\n",
      "0.329701\n",
      "evaluating requete 58\n",
      "0.576942\n",
      "evaluating requete 59\n",
      "0.708344\n",
      "evaluating requete 60\n",
      "0.279569\n"
     ]
    },
    {
     "ename": "NameError",
     "evalue": "name 'CR20' is not defined",
     "output_type": "error",
     "traceback": [
      "\u001b[0;31m---------------------------------------------------------------------------\u001b[0m",
      "\u001b[0;31mNameError\u001b[0m                                 Traceback (most recent call last)",
      "\u001b[0;32m<ipython-input-1-7ceab240f969>\u001b[0m in \u001b[0;36m<module>\u001b[0;34m()\u001b[0m\n\u001b[1;32m     27\u001b[0m \u001b[0;34m\u001b[0m\u001b[0m\n\u001b[1;32m     28\u001b[0m \u001b[0;34m\u001b[0m\u001b[0m\n\u001b[0;32m---> 29\u001b[0;31m \u001b[0;32mprint\u001b[0m \u001b[0mCR20\u001b[0m\u001b[0;34m,\u001b[0m\u001b[0mCR20glouton\u001b[0m\u001b[0;34m,\u001b[0m\u001b[0mCR20Cluster\u001b[0m\u001b[0;34m\u001b[0m\u001b[0m\n\u001b[0m\u001b[1;32m     30\u001b[0m \u001b[0;31m#evaluation sur cluster recall\u001b[0m\u001b[0;34m\u001b[0m\u001b[0;34m\u001b[0m\u001b[0m\n\u001b[1;32m     31\u001b[0m \u001b[0mprecision\u001b[0m \u001b[0;34m=\u001b[0m \u001b[0mEvalIRModel\u001b[0m\u001b[0;34m(\u001b[0m\u001b[0mmodel\u001b[0m\u001b[0;34m,\u001b[0m\u001b[0;34m\"P\"\u001b[0m\u001b[0;34m)\u001b[0m\u001b[0;34m\u001b[0m\u001b[0m\n",
      "\u001b[0;31mNameError\u001b[0m: name 'CR20' is not defined"
     ]
    }
   ],
   "source": [
    "\n",
    "from TextRepresenter import *\n",
    "from indexation import *\n",
    "from evaluation import *\n",
    "from modeles import *\n",
    "from diversite import *\n",
    "\n",
    "tr = PorterStemmer()\n",
    "parser = ParserCACM()\n",
    "index = Index(\"Clef08\", parser, tr, \"/media/gozuslayer/Data/Master2DAC/RI/RI(part3)/easyCLEF08/\")\n",
    "\n",
    "#model\n",
    "Weighter = Weighter_2(index)\n",
    "model = Vectoriel(Weighter,index,normalized=True)\n",
    "\n",
    "#QueryParser\n",
    "Parser = CACM_QueryParser()     \n",
    "Parser.initFile_query(\"/media/gozuslayer/Data/Master2DAC/RI/RI(part3)/easyCLEF08/easyCLEF08_query.txt\")\n",
    "Parser.initFile_jugement(\"/media/gozuslayer/Data/Master2DAC/RI/RI(part3)/easyCLEF08/easyCLEF08_gt_without_comments.txt\")\n",
    "Query = QueryParser.nextQuery()\n",
    "query = Stemmer.getTextRepresentation(Query.others['text'])\n",
    "t0 = time.clock()\n",
    "l = self.IRModel.getRanking(query)\n",
    "print time.clock() - t0\n",
    "irlist = IRlist(Query,l)\n",
    "\n",
    "reorder = diversite_by_glouton(irlist,model.Index)\n",
    "irlist = reorder.fit_transform(100,0.95)\n",
    "evaluation = ClusterRecall(irlist)\n",
    "CR = evaluation.eval(20)"
   ]
  },
  {
   "cell_type": "code",
   "execution_count": 1,
   "metadata": {
    "ExecuteTime": {
     "end_time": "2017-01-19T14:58:06.845393",
     "start_time": "2017-01-19T14:58:06.830283"
    },
    "collapsed": false
   },
   "outputs": [
    {
     "data": {
      "text/plain": [
       "[11, 22]"
      ]
     },
     "execution_count": 1,
     "metadata": {},
     "output_type": "execute_result"
    }
   ],
   "source": [
    "from collections import OrderedDict\n",
    "A = OrderedDict([('x', 11), ('y', 22), ('yd', 22), ('ys', 22)])\n",
    "A,B = A.keys()[0:2],A.values()[0:2]\n",
    "B"
   ]
  },
  {
   "cell_type": "code",
   "execution_count": 11,
   "metadata": {
    "ExecuteTime": {
     "end_time": "2017-01-19T15:25:11.638778",
     "start_time": "2017-01-19T15:25:11.634731"
    },
    "collapsed": false
   },
   "outputs": [
    {
     "name": "stdout",
     "output_type": "stream",
     "text": [
      "[5 4 5 1] [[25 25  5 25]\n",
      " [20 20  4 20]\n",
      " [25 25  5 25]\n",
      " [ 5  5  1  5]]\n"
     ]
    }
   ],
   "source": [
    "A = np.array([[5,5,1,5]])\n",
    "B = np.array([[5,4,5,1]])\n",
    "print np.min(A*B.T,axis=1),A*B.T\n"
   ]
  },
  {
   "cell_type": "code",
   "execution_count": 7,
   "metadata": {
    "ExecuteTime": {
     "end_time": "2017-01-16T00:55:14.304776",
     "start_time": "2017-01-16T00:55:14.300667"
    },
    "collapsed": false
   },
   "outputs": [],
   "source": [
    "def get_benchmark_for_score(model,file_text,file_gt,score=\"P\",at=20,nbLevels = 11):\n",
    "    tr = PorterStemmer()\n",
    "    Parser = CACM_QueryParser()\n",
    "    Parser.initFile_query(file_text)\n",
    "    Parser.initFile_jugement(file_gt)\n",
    "    \n",
    "    Scoring = EvalIRModel(model,score)\n",
    "    res = Scoring.evaluate(Parser,tr,at=20)\n",
    "    return res"
   ]
  },
  {
   "cell_type": "code",
   "execution_count": 8,
   "metadata": {
    "ExecuteTime": {
     "end_time": "2017-01-16T00:55:14.311231",
     "start_time": "2017-01-16T00:55:14.306008"
    },
    "collapsed": false
   },
   "outputs": [],
   "source": [
    "def get_nbr_Query(file_text,file_gt):\n",
    "    Parser = CACM_QueryParser()\n",
    "    Parser.initFile_query(file_text)\n",
    "    Parser.initFile_jugement(file_gt)\n",
    "    Query = Parser.nextQuery()\n",
    "    i=0\n",
    "    while (Query!=None):\n",
    "        i=i+1\n",
    "        Query = Parser.nextQuery()\n",
    "    return i"
   ]
  },
  {
   "cell_type": "code",
   "execution_count": 9,
   "metadata": {
    "ExecuteTime": {
     "end_time": "2017-01-16T00:55:14.316626",
     "start_time": "2017-01-16T00:55:14.312278"
    },
    "collapsed": false
   },
   "outputs": [],
   "source": [
    "def get_all_benchmark(model,file_text,file_gt,at=20,nbLevels = 11):\n",
    "    P = get_benchmark_for_score(model,file_text,file_gt,score=\"P\",at=20,nbLevels = 11)\n",
    "    CR = get_benchmark_for_score(model,file_text,file_gt,score=\"CR\",at=20,nbLevels = 11)\n",
    "    MAP = get_benchmark_for_score(model,file_text,file_gt,score=\"AP\",at=20,nbLevels = 11)\n",
    "    nbrReq = get_nbr_Query(file_text,file_gt)\n",
    "    return P,CR,MAP,nbrReq\n"
   ]
  },
  {
   "cell_type": "code",
   "execution_count": 10,
   "metadata": {
    "ExecuteTime": {
     "end_time": "2017-01-16T00:55:14.322222",
     "start_time": "2017-01-16T00:55:14.317706"
    },
    "collapsed": false
   },
   "outputs": [
    {
     "name": "stdout",
     "output_type": "stream",
     "text": [
      "hello\n"
     ]
    }
   ],
   "source": [
    "if (10==10)&(5==5):\n",
    "    print 'hello'"
   ]
  },
  {
   "cell_type": "code",
   "execution_count": 13,
   "metadata": {
    "ExecuteTime": {
     "end_time": "2017-01-16T00:58:53.543089",
     "start_time": "2017-01-16T00:57:54.218853"
    },
    "collapsed": false
   },
   "outputs": [
    {
     "name": "stdout",
     "output_type": "stream",
     "text": [
      "evaluating requete 2\n",
      "5\n",
      "0.0\n",
      "evaluating requete 3\n",
      "8\n",
      "0.0\n",
      "evaluating requete 5\n",
      "8\n",
      "0.375\n",
      "evaluating requete 6\n",
      "10\n",
      "0.6\n",
      "evaluating requete 10\n",
      "23\n",
      "0.391304347826\n",
      "evaluating requete 11\n",
      "8\n",
      "0.0\n",
      "evaluating requete 12\n",
      "3\n",
      "1.0\n",
      "evaluating requete 13\n",
      "9\n",
      "0.333333333333\n",
      "evaluating requete 15\n",
      "7\n",
      "0.714285714286\n",
      "evaluating requete 16\n",
      "23\n",
      "0.217391304348\n",
      "evaluating requete 17\n",
      "10\n",
      "0.0\n",
      "evaluating requete 18\n",
      "9\n",
      "0.0\n",
      "evaluating requete 19\n",
      "6\n",
      "0.333333333333\n",
      "evaluating requete 20\n",
      "22\n",
      "0.136363636364\n",
      "evaluating requete 21\n",
      "8\n",
      "0.5\n",
      "evaluating requete 23\n",
      "5\n",
      "0.2\n",
      "evaluating requete 24\n",
      "4\n",
      "0.75\n",
      "evaluating requete 28\n",
      "5\n",
      "0.8\n",
      "evaluating requete 29\n",
      "3\n",
      "0.666666666667\n",
      "evaluating requete 31\n",
      "10\n",
      "0.6\n",
      "evaluating requete 34\n",
      "7\n",
      "0.142857142857\n",
      "evaluating requete 35\n",
      "8\n",
      "0.5\n",
      "evaluating requete 37\n",
      "8\n",
      "0.375\n",
      "evaluating requete 39\n",
      "4\n",
      "0.5\n",
      "evaluating requete 40\n",
      "11\n",
      "0.272727272727\n",
      "evaluating requete 41\n",
      "7\n",
      "0.428571428571\n",
      "evaluating requete 43\n",
      "9\n",
      "0.444444444444\n",
      "evaluating requete 44\n",
      "15\n",
      "0.4\n",
      "evaluating requete 48\n",
      "5\n",
      "0.8\n",
      "evaluating requete 49\n",
      "6\n",
      "0.666666666667\n",
      "evaluating requete 50\n",
      "7\n",
      "0.714285714286\n",
      "evaluating requete 52\n",
      "7\n",
      "0.571428571429\n",
      "evaluating requete 53\n",
      "2\n",
      "1.0\n",
      "evaluating requete 54\n",
      "4\n",
      "0.75\n",
      "evaluating requete 55\n",
      "6\n",
      "0.333333333333\n",
      "evaluating requete 56\n",
      "5\n",
      "0.8\n",
      "evaluating requete 58\n",
      "5\n",
      "1.0\n",
      "evaluating requete 59\n",
      "4\n",
      "0.75\n",
      "evaluating requete 60\n",
      "3\n",
      "0.666666666667\n"
     ]
    }
   ],
   "source": [
    "Weighter = Weighter_2(index)\n",
    "model = Vectoriel(Weighter,index,normalized=True)\n",
    "\n",
    "tr = PorterStemmer()\n",
    "Parser = CACM_QueryParser()\n",
    "Parser.initFile_query(\"/media/gozuslayer/Data/Master2DAC/RI/RI(part3)/easyCLEF08/easyCLEF08_query.txt\")\n",
    "Parser.initFile_jugement(\"/media/gozuslayer/Data/Master2DAC/RI/RI(part3)/easyCLEF08/easyCLEF08_gt_without_comments.txt\")\n",
    "    \n",
    "Scoring = EvalIRModel(model,\"CR\")\n",
    "res = Scoring.evaluate(Parser,tr)"
   ]
  },
  {
   "cell_type": "code",
   "execution_count": 14,
   "metadata": {
    "ExecuteTime": {
     "end_time": "2017-01-16T00:58:53.550632",
     "start_time": "2017-01-16T00:58:53.544584"
    },
    "collapsed": false
   },
   "outputs": [
    {
     "data": {
      "text/plain": [
       "0.4803502455676369"
      ]
     },
     "execution_count": 14,
     "metadata": {},
     "output_type": "execute_result"
    }
   ],
   "source": [
    "\n",
    "def get_index_ranking(table):\n",
    "\tres = np.arange(len(table))\n",
    "\tfor i in range(len(table)):\n",
    "\t\tfor j in range(len(table[0:i])):\n",
    "\t\t\tif table[i]>table[j]:\n",
    "\t\t\t\tres[i],res[j]=res[j],res[i]\n",
    "\treturn res\n",
    "res"
   ]
  },
  {
   "cell_type": "code",
   "execution_count": null,
   "metadata": {
    "ExecuteTime": {
     "end_time": "2017-01-15T22:50:48.528833",
     "start_time": "2017-01-15T22:49:08.540327"
    },
    "collapsed": false
   },
   "outputs": [],
   "source": [
    "#model\n",
    "Weighter = Weighter_1(index)\n",
    "model = Vectoriel(Weighter,index,normalized=True)\n",
    "pa20 = get_all_benchmark(model\n",
    "                     ,\"/media/gozuslayer/Data/Master2DAC/RI/RI(part3)/easyCLEF08/easyCLEF08_query.txt\"\n",
    "                     ,\"/media/gozuslayer/Data/Master2DAC/RI/RI(part3)/easyCLEF08/easyCLEF08_gt_without_comments.txt\"\n",
    "                    )"
   ]
  },
  {
   "cell_type": "code",
   "execution_count": 32,
   "metadata": {
    "ExecuteTime": {
     "end_time": "2017-01-16T00:29:37.372196",
     "start_time": "2017-01-16T00:29:37.368744"
    },
    "code_folding": [],
    "collapsed": false
   },
   "outputs": [
    {
     "name": "stdout",
     "output_type": "stream",
     "text": [
      "0\n",
      "0\n",
      "0\n",
      "0\n",
      "0\n",
      "0\n",
      "0\n",
      "1\n",
      "1\n",
      "1\n"
     ]
    }
   ],
   "source": [
    "for i in range(10):\n",
    "    print i/7"
   ]
  },
  {
   "cell_type": "code",
   "execution_count": null,
   "metadata": {
    "ExecuteTime": {
     "end_time": "2017-01-14T19:17:10.789482",
     "start_time": "2017-01-14T19:17:10.785136"
    },
    "collapsed": false
   },
   "outputs": [],
   "source": [
    "def get_range(dictionary, table):\n",
    "  return dict((k, v) for k, v in dictionary.iteritems() if k in table)\n",
    "get_range(Ranking,[8,5])"
   ]
  },
  {
   "cell_type": "code",
   "execution_count": null,
   "metadata": {
    "ExecuteTime": {
     "end_time": "2017-01-14T18:59:34.371516",
     "start_time": "2017-01-14T18:59:34.355124"
    },
    "collapsed": false
   },
   "outputs": [],
   "source": [
    "pa20 = get_benchmark(model\n",
    "                     ,\"/media/gozuslayer/Data/Master2DAC/RI/RI(part3)/easyCLEF08/easyCLEF08_query.txt\"\n",
    "                     ,\"/media/gozuslayer/Data/Master2DAC/RI/RI(part3)/easyCLEF08/easyCLEF08_gt_without_comments.txt\"\n",
    "                    ,at=20)"
   ]
  },
  {
   "cell_type": "code",
   "execution_count": null,
   "metadata": {
    "ExecuteTime": {
     "end_time": "2017-01-12T19:10:16.140116",
     "start_time": "2017-01-12T19:10:16.132967"
    },
    "collapsed": false
   },
   "outputs": [],
   "source": [
    "print pa20"
   ]
  },
  {
   "cell_type": "code",
   "execution_count": null,
   "metadata": {
    "ExecuteTime": {
     "end_time": "2017-01-12T19:11:28.266926",
     "start_time": "2017-01-12T19:10:30.288647"
    },
    "collapsed": false
   },
   "outputs": [],
   "source": [
    "#model\n",
    "Weighter = Weighter_1(index)\n",
    "model = Vectoriel(Weighter,index,normalized=True)\n",
    "pa20 = get_benchmark(model\n",
    "                     ,\"/media/gozuslayer/Data/Master2DAC/RI/RI(part3)/easyCLEF08/easyCLEF08_query.txt\"\n",
    "                     ,\"/media/gozuslayer/Data/Master2DAC/RI/RI(part3)/easyCLEF08/easyCLEF08_gt_without_comments.txt\"\n",
    "                    ,at=20)"
   ]
  },
  {
   "cell_type": "code",
   "execution_count": null,
   "metadata": {
    "ExecuteTime": {
     "end_time": "2017-01-12T19:12:28.894389",
     "start_time": "2017-01-12T19:12:28.890958"
    },
    "collapsed": false
   },
   "outputs": [],
   "source": [
    "pa20"
   ]
  },
  {
   "cell_type": "code",
   "execution_count": null,
   "metadata": {
    "ExecuteTime": {
     "end_time": "2017-01-12T19:14:41.579378",
     "start_time": "2017-01-12T19:14:41.239144"
    },
    "collapsed": false
   },
   "outputs": [],
   "source": [
    "#model\n",
    "Weighter = Weighter_1(index)\n",
    "model = Vectoriel(Weighter,index)\n",
    "pa20 = get_benchmark(model\n",
    "                     ,\"/media/gozuslayer/Data/Master2DAC/RI/RI(part3)/easyCLEF08/easyCLEF08_query.txt\"\n",
    "                     ,\"/media/gozuslayer/Data/Master2DAC/RI/RI(part3)/easyCLEF08/easyCLEF08_gt_without_comments.txt\"\n",
    "                    ,at=20\n",
    "                    ,score=\"AP\")"
   ]
  },
  {
   "cell_type": "code",
   "execution_count": null,
   "metadata": {
    "collapsed": false
   },
   "outputs": [],
   "source": []
  }
 ],
 "metadata": {
  "anaconda-cloud": {},
  "kernelspec": {
   "display_name": "Python [conda root]",
   "language": "python",
   "name": "conda-root-py"
  },
  "language_info": {
   "codemirror_mode": {
    "name": "ipython",
    "version": 2
   },
   "file_extension": ".py",
   "mimetype": "text/x-python",
   "name": "python",
   "nbconvert_exporter": "python",
   "pygments_lexer": "ipython2",
   "version": "2.7.12"
  }
 },
 "nbformat": 4,
 "nbformat_minor": 1
}
